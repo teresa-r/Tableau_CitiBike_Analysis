{
 "cells": [
  {
   "cell_type": "code",
   "execution_count": 1,
   "metadata": {},
   "outputs": [],
   "source": [
    "import pandas as pd\n",
    "from glob import glob\n",
    "from glob import *"
   ]
  },
  {
   "cell_type": "markdown",
   "metadata": {},
   "source": [
    "## Use glob() to list all files that match a pattern & sorted the output"
   ]
  },
  {
   "cell_type": "code",
   "execution_count": 2,
   "metadata": {},
   "outputs": [
    {
     "data": {
      "text/plain": [
       "['df_2017_01.csv',\n",
       " 'df_2017_08.csv',\n",
       " 'df_2018_01.csv',\n",
       " 'df_2018_08.csv',\n",
       " 'df_2019_01.csv',\n",
       " 'df_2019_08.csv']"
      ]
     },
     "execution_count": 2,
     "metadata": {},
     "output_type": "execute_result"
    }
   ],
   "source": [
    "citiBike_files=sorted(glob('df*.csv'))\n",
    "citiBike_files"
   ]
  },
  {
   "cell_type": "markdown",
   "metadata": {},
   "source": [
    "## Use a generator expression \n",
    "-to read the files, assign() to create a new columns\n",
    "\n",
    "-& concat () to combine the DataFrames\n",
    "\n",
    "-https://twitter.com/justmarkham/status/1182286191028244480?ref_src=twsrc%5Etfw%7Ctwcamp%5Etweetembed%7Ctwterm%5E1182286191028244480&ref_url=https%3A%2F%2Fwww.dataschool.io%2Fpython-pandas-tips-and-tricks%2F"
   ]
  },
  {
   "cell_type": "code",
   "execution_count": 3,
   "metadata": {},
   "outputs": [],
   "source": [
    "merge_df= pd.concat((pd.read_csv(file).assign(filename=file) for file in citiBike_files),ignore_index=True)"
   ]
  },
  {
   "cell_type": "markdown",
   "metadata": {},
   "source": [
    "## Final validation "
   ]
  },
  {
   "cell_type": "code",
   "execution_count": 4,
   "metadata": {},
   "outputs": [
    {
     "data": {
      "text/plain": [
       "tripduration(seconds)      0\n",
       "starttime                  0\n",
       "stoptime                   0\n",
       "start_station_id           0\n",
       "start_station_name         0\n",
       "start_station_latitude     0\n",
       "start_station_longitude    0\n",
       "end_station_id             0\n",
       "end_station_name           0\n",
       "end_station_latitude       0\n",
       "end_station_longitude      0\n",
       "bikeid                     0\n",
       "usertype                   0\n",
       "birth_year                 0\n",
       "gender                     0\n",
       "as_of_year                 0\n",
       "month                      0\n",
       "season                     0\n",
       "Age                        0\n",
       "trip_start_time            0\n",
       "trip_end_time              0\n",
       "filename                   0\n",
       "dtype: int64"
      ]
     },
     "execution_count": 4,
     "metadata": {},
     "output_type": "execute_result"
    }
   ],
   "source": [
    "# Validate NA values\n",
    "merge_df.isnull().sum()"
   ]
  },
  {
   "cell_type": "code",
   "execution_count": 5,
   "metadata": {},
   "outputs": [
    {
     "name": "stdout",
     "output_type": "stream",
     "text": [
      "<class 'pandas.core.frame.DataFrame'>\n",
      "RangeIndex: 1954920 entries, 0 to 1954919\n",
      "Data columns (total 22 columns):\n",
      "tripduration(seconds)      int64\n",
      "starttime                  object\n",
      "stoptime                   object\n",
      "start_station_id           int64\n",
      "start_station_name         object\n",
      "start_station_latitude     float64\n",
      "start_station_longitude    float64\n",
      "end_station_id             int64\n",
      "end_station_name           object\n",
      "end_station_latitude       float64\n",
      "end_station_longitude      float64\n",
      "bikeid                     int64\n",
      "usertype                   object\n",
      "birth_year                 int64\n",
      "gender                     object\n",
      "as_of_year                 int64\n",
      "month                      object\n",
      "season                     object\n",
      "Age                        int64\n",
      "trip_start_time            object\n",
      "trip_end_time              object\n",
      "filename                   object\n",
      "dtypes: float64(4), int64(7), object(11)\n",
      "memory usage: 328.1+ MB\n"
     ]
    }
   ],
   "source": [
    "# Validate datatype per column\n",
    "# Note: does not return non-null counts for large DataFrames\n",
    "merge_df.info()"
   ]
  },
  {
   "cell_type": "markdown",
   "metadata": {},
   "source": [
    "## Export Merge File to CSV"
   ]
  },
  {
   "cell_type": "code",
   "execution_count": 6,
   "metadata": {},
   "outputs": [],
   "source": [
    "# Write to CSV\n",
    "merge_df.to_csv(\"merge_df.csv\", index=False)"
   ]
  },
  {
   "cell_type": "code",
   "execution_count": null,
   "metadata": {},
   "outputs": [],
   "source": []
  }
 ],
 "metadata": {
  "kernelspec": {
   "display_name": "Python 3",
   "language": "python",
   "name": "python3"
  },
  "language_info": {
   "codemirror_mode": {
    "name": "ipython",
    "version": 3
   },
   "file_extension": ".py",
   "mimetype": "text/x-python",
   "name": "python",
   "nbconvert_exporter": "python",
   "pygments_lexer": "ipython3",
   "version": "3.7.3"
  }
 },
 "nbformat": 4,
 "nbformat_minor": 2
}
