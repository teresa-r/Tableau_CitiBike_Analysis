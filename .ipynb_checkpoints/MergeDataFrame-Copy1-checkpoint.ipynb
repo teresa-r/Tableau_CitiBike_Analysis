{
 "cells": [
  {
   "cell_type": "code",
   "execution_count": 12,
   "metadata": {},
   "outputs": [],
   "source": [
    "import io\n",
    "import pandas as pd\n",
    "import numpy as np\n",
    "import csv\n",
    "import calendar\n",
    "import time\n",
    "from datetime import datetime\n",
    "from datetime import date"
   ]
  },
  {
   "cell_type": "markdown",
   "metadata": {},
   "source": [
    "# 2017-01\n",
    "-Gender (Zero=unknown; 1=male; 2=female) \n",
    "\n",
    "-User Type (Customer = 24-hour pass or 3-day pass user; Subscriber = Annual Member)"
   ]
  },
  {
   "cell_type": "code",
   "execution_count": 13,
   "metadata": {},
   "outputs": [],
   "source": [
    "#Import Jan CSV for Year: 2017-01\n",
    "df_2017_01=pd.read_csv(\"Resources/Citibike_DataSource/JC-201701-citibike-tripdata.csv\")"
   ]
  },
  {
   "cell_type": "code",
   "execution_count": 14,
   "metadata": {},
   "outputs": [
    {
     "data": {
      "text/plain": [
       "tripduration                 0\n",
       "starttime                    0\n",
       "stoptime                     0\n",
       "start station id             0\n",
       "start station name           0\n",
       "start station latitude       0\n",
       "start station longitude      0\n",
       "end station id               0\n",
       "end station name             0\n",
       "end station latitude         0\n",
       "end station longitude        0\n",
       "bikeid                       0\n",
       "usertype                    18\n",
       "birth year                 386\n",
       "gender                       0\n",
       "dtype: int64"
      ]
     },
     "execution_count": 14,
     "metadata": {},
     "output_type": "execute_result"
    }
   ],
   "source": [
    "#Check how many null values in each column\n",
    "df_2017_01.isnull().sum()"
   ]
  },
  {
   "cell_type": "code",
   "execution_count": 15,
   "metadata": {},
   "outputs": [],
   "source": [
    "#Standarized Start Time and End time \n",
    "start_time_201701=[datetime.strptime(x,\"%m/%d/%Y %H:%M\").strftime(\"%Y/%m/%d %H:%M:%S\") for x in df_2017_01['starttime'].values.tolist()]\n",
    "end_time_201701=[datetime.strptime(x,\"%m/%d/%Y %H:%M\").strftime(\"%Y/%m/%d %H:%M:%S\") for x in df_2017_01['stoptime'].values.tolist()]\n"
   ]
  },
  {
   "cell_type": "code",
   "execution_count": 16,
   "metadata": {},
   "outputs": [],
   "source": [
    "#Replace Gender Column\n",
    "# Gender (Zero=unknown; 1=male; 2=female)\n",
    "df_2017_01['gender']=df_2017_01['gender'].replace([0], 'Unknown')\n",
    "df_2017_01['gender']=df_2017_01['gender'].replace([1], 'Male')\n",
    "df_2017_01['gender']=df_2017_01['gender'].replace([2], 'Female')"
   ]
  },
  {
   "cell_type": "code",
   "execution_count": 17,
   "metadata": {},
   "outputs": [],
   "source": [
    "# Rename Trip Duration to reflect values are in seconds\n",
    "# https://www.citibikenyc.com/system-data\n",
    "df_2017_01=df_2017_01.rename(columns={'tripduration':'tripduration(seconds)'\n",
    "                                 , 'birth year': 'birth_year'})"
   ]
  },
  {
   "cell_type": "code",
   "execution_count": 18,
   "metadata": {},
   "outputs": [],
   "source": [
    "#Clearn up defect data related to birth year: {1885, 1886, 1887, 1888, 1890, 1893, 1895, 1896, 1899}\n",
    "byr_2017_01= df_2017_01.birth_year < 1930\n",
    "column_name_201701 ='birth_year'\n",
    "df_2017_01.loc[byr_2017_01, column_name_201701] = 0\n"
   ]
  },
  {
   "cell_type": "code",
   "execution_count": 19,
   "metadata": {},
   "outputs": [],
   "source": [
    "# Add Columns\n",
    "df_2017_01['as_of_year']=2017\n",
    "df_2017_01['month']= 'January'\n",
    "df_2017_01['trip_start_time']=start_time_201701\n",
    "df_2017_01['trip_end_time']=end_time_201701\n",
    "# df_2017_01['state']='New York'\n",
    "# df_2017_01['city']='New York City'\n",
    "\n",
    "# Add column to calculate age\n",
    "df_2017_01['Age']=df_2017_01.as_of_year-df_2017_01.birth_year"
   ]
  },
  {
   "cell_type": "code",
   "execution_count": 20,
   "metadata": {},
   "outputs": [
    {
     "data": {
      "text/html": [
       "<div>\n",
       "<style scoped>\n",
       "    .dataframe tbody tr th:only-of-type {\n",
       "        vertical-align: middle;\n",
       "    }\n",
       "\n",
       "    .dataframe tbody tr th {\n",
       "        vertical-align: top;\n",
       "    }\n",
       "\n",
       "    .dataframe thead th {\n",
       "        text-align: right;\n",
       "    }\n",
       "</style>\n",
       "<table border=\"1\" class=\"dataframe\">\n",
       "  <thead>\n",
       "    <tr style=\"text-align: right;\">\n",
       "      <th></th>\n",
       "      <th>tripduration(seconds)</th>\n",
       "      <th>starttime</th>\n",
       "      <th>stoptime</th>\n",
       "      <th>start station id</th>\n",
       "      <th>start station name</th>\n",
       "      <th>start station latitude</th>\n",
       "      <th>start station longitude</th>\n",
       "      <th>end station id</th>\n",
       "      <th>end station name</th>\n",
       "      <th>end station latitude</th>\n",
       "      <th>end station longitude</th>\n",
       "      <th>bikeid</th>\n",
       "      <th>usertype</th>\n",
       "      <th>birth_year</th>\n",
       "      <th>gender</th>\n",
       "      <th>as_of_year</th>\n",
       "      <th>month</th>\n",
       "      <th>trip_start_time</th>\n",
       "      <th>trip_end_time</th>\n",
       "      <th>Age</th>\n",
       "    </tr>\n",
       "  </thead>\n",
       "  <tbody>\n",
       "    <tr>\n",
       "      <th>0</th>\n",
       "      <td>148</td>\n",
       "      <td>1/1/2017 0:21</td>\n",
       "      <td>1/1/2017 0:24</td>\n",
       "      <td>3276</td>\n",
       "      <td>Marin Light Rail</td>\n",
       "      <td>40.714584</td>\n",
       "      <td>-74.042817</td>\n",
       "      <td>3185</td>\n",
       "      <td>City Hall</td>\n",
       "      <td>40.717733</td>\n",
       "      <td>-74.043845</td>\n",
       "      <td>24575</td>\n",
       "      <td>Subscriber</td>\n",
       "      <td>1983.0</td>\n",
       "      <td>Male</td>\n",
       "      <td>2017</td>\n",
       "      <td>January</td>\n",
       "      <td>2017/01/01 00:21:00</td>\n",
       "      <td>2017/01/01 00:24:00</td>\n",
       "      <td>34.0</td>\n",
       "    </tr>\n",
       "    <tr>\n",
       "      <th>1</th>\n",
       "      <td>1283</td>\n",
       "      <td>1/1/2017 0:24</td>\n",
       "      <td>1/1/2017 0:45</td>\n",
       "      <td>3183</td>\n",
       "      <td>Exchange Place</td>\n",
       "      <td>40.716247</td>\n",
       "      <td>-74.033459</td>\n",
       "      <td>3198</td>\n",
       "      <td>Heights Elevator</td>\n",
       "      <td>40.748716</td>\n",
       "      <td>-74.040443</td>\n",
       "      <td>24723</td>\n",
       "      <td>Subscriber</td>\n",
       "      <td>1978.0</td>\n",
       "      <td>Male</td>\n",
       "      <td>2017</td>\n",
       "      <td>January</td>\n",
       "      <td>2017/01/01 00:24:00</td>\n",
       "      <td>2017/01/01 00:45:00</td>\n",
       "      <td>39.0</td>\n",
       "    </tr>\n",
       "  </tbody>\n",
       "</table>\n",
       "</div>"
      ],
      "text/plain": [
       "   tripduration(seconds)      starttime       stoptime  start station id  \\\n",
       "0                    148  1/1/2017 0:21  1/1/2017 0:24              3276   \n",
       "1                   1283  1/1/2017 0:24  1/1/2017 0:45              3183   \n",
       "\n",
       "  start station name  start station latitude  start station longitude  \\\n",
       "0   Marin Light Rail               40.714584               -74.042817   \n",
       "1     Exchange Place               40.716247               -74.033459   \n",
       "\n",
       "   end station id  end station name  end station latitude  \\\n",
       "0            3185         City Hall             40.717733   \n",
       "1            3198  Heights Elevator             40.748716   \n",
       "\n",
       "   end station longitude  bikeid    usertype  birth_year gender  as_of_year  \\\n",
       "0             -74.043845   24575  Subscriber      1983.0   Male        2017   \n",
       "1             -74.040443   24723  Subscriber      1978.0   Male        2017   \n",
       "\n",
       "     month      trip_start_time        trip_end_time   Age  \n",
       "0  January  2017/01/01 00:21:00  2017/01/01 00:24:00  34.0  \n",
       "1  January  2017/01/01 00:24:00  2017/01/01 00:45:00  39.0  "
      ]
     },
     "execution_count": 20,
     "metadata": {},
     "output_type": "execute_result"
    }
   ],
   "source": [
    "df1=pd.DataFrame(df_2017_01)\n",
    "df1.head(2)"
   ]
  },
  {
   "cell_type": "code",
   "execution_count": 22,
   "metadata": {},
   "outputs": [
    {
     "data": {
      "text/plain": [
       "tripduration(seconds)        0\n",
       "starttime                    0\n",
       "stoptime                     0\n",
       "start station id             0\n",
       "start station name           0\n",
       "start station latitude       0\n",
       "start station longitude      0\n",
       "end station id               0\n",
       "end station name             0\n",
       "end station latitude         0\n",
       "end station longitude        0\n",
       "bikeid                       0\n",
       "usertype                    18\n",
       "birth_year                 386\n",
       "gender                       0\n",
       "as_of_year                   0\n",
       "month                        0\n",
       "trip_start_time              0\n",
       "trip_end_time                0\n",
       "Age                        386\n",
       "dtype: int64"
      ]
     },
     "execution_count": 22,
     "metadata": {},
     "output_type": "execute_result"
    }
   ],
   "source": [
    "df1.isnull().sum()"
   ]
  },
  {
   "cell_type": "code",
   "execution_count": 21,
   "metadata": {},
   "outputs": [],
   "source": [
    "#Write to CSV\n",
    "df1.to_csv(\"Resources/df1.csv\", index=False)"
   ]
  },
  {
   "cell_type": "code",
   "execution_count": null,
   "metadata": {},
   "outputs": [],
   "source": []
  },
  {
   "cell_type": "markdown",
   "metadata": {},
   "source": [
    "# 2017-08"
   ]
  },
  {
   "cell_type": "code",
   "execution_count": null,
   "metadata": {},
   "outputs": [],
   "source": [
    "#Import Jan CSV for Year: 2017-01\n",
    "df_2017_08=pd.read_csv(\"Resources/Citibike_DataSource/JC-201708-citibike-tripdata.csv\")\n",
    "\n",
    "#Standarized Start Time and End time \n",
    "start_time_201708=[datetime.strptime(x,\"%m/%d/%Y %H:%M\").strftime(\"%Y/%m/%d %H:%M:%S\") for x in df1['starttime'].values.tolist()]\n",
    "end_time_201708=[datetime.strptime(x,\"%m/%d/%Y %H:%M\").strftime(\"%Y/%m/%d %H:%M:%S\") for x in df1['stoptime'].values.tolist()]"
   ]
  },
  {
   "cell_type": "code",
   "execution_count": null,
   "metadata": {},
   "outputs": [],
   "source": [
    "df_2017_01['as_of_year']=2017\n",
    "df_2017_01['month']= 'January'\n",
    "df_2017_01['trip_start_time']=start_time_201701\n",
    "df_2017_01['trip_end_time']=end_time_201701\n",
    "df_2017_01.head(2)\n"
   ]
  },
  {
   "cell_type": "code",
   "execution_count": null,
   "metadata": {},
   "outputs": [],
   "source": []
  },
  {
   "cell_type": "code",
   "execution_count": null,
   "metadata": {},
   "outputs": [],
   "source": []
  },
  {
   "cell_type": "code",
   "execution_count": null,
   "metadata": {},
   "outputs": [],
   "source": []
  },
  {
   "cell_type": "code",
   "execution_count": null,
   "metadata": {},
   "outputs": [],
   "source": []
  },
  {
   "cell_type": "code",
   "execution_count": null,
   "metadata": {},
   "outputs": [],
   "source": [
    "df_2017_final = [datetime.strptime(x,\"%m/%d/%Y %H:%M\").strftime(\"%Y/%m/%d %H:%M:%S\") for x in df1['starttime'].values.tolist()]"
   ]
  },
  {
   "cell_type": "code",
   "execution_count": null,
   "metadata": {},
   "outputs": [],
   "source": [
    "df_2017_final"
   ]
  },
  {
   "cell_type": "code",
   "execution_count": null,
   "metadata": {},
   "outputs": [],
   "source": [
    "df_2018_01=pd.read_csv(\"Resources/Citibike_DataSource/JC-201801-citibike-tripdata.csv\")\n",
    "df_2018_01['as_of_year']=2018\n",
    "df_2018_01['month']= 'January'\n",
    "df2=pd.DataFrame(df_2018_01)"
   ]
  },
  {
   "cell_type": "code",
   "execution_count": null,
   "metadata": {},
   "outputs": [],
   "source": [
    "df_2019_01=pd.read_csv(\"Resources/Citibike_DataSource/JC-201901-citibike-tripdata.csv\")\n",
    "df_2019_01['as_of_year']=2019\n",
    "df_2019_01['month']= 'January'\n",
    "df3=pd.DataFrame(df_2019_01)"
   ]
  },
  {
   "cell_type": "code",
   "execution_count": null,
   "metadata": {},
   "outputs": [],
   "source": [
    "test"
   ]
  },
  {
   "cell_type": "code",
   "execution_count": null,
   "metadata": {},
   "outputs": [],
   "source": [
    "test[1].strftime(\"%Y/%m/%d %H/%M/%S\")"
   ]
  },
  {
   "cell_type": "code",
   "execution_count": null,
   "metadata": {},
   "outputs": [],
   "source": []
  },
  {
   "cell_type": "code",
   "execution_count": null,
   "metadata": {},
   "outputs": [],
   "source": []
  },
  {
   "cell_type": "code",
   "execution_count": null,
   "metadata": {},
   "outputs": [],
   "source": []
  },
  {
   "cell_type": "code",
   "execution_count": null,
   "metadata": {},
   "outputs": [],
   "source": []
  },
  {
   "cell_type": "code",
   "execution_count": null,
   "metadata": {},
   "outputs": [],
   "source": []
  },
  {
   "cell_type": "code",
   "execution_count": null,
   "metadata": {},
   "outputs": [],
   "source": [
    "#Import Aug CSV for Year: 2017 to 2019\n",
    "df_2017_08=pd.read_csv(\"Resources/Citibike_DataSource/JC-201708-citibike-tripdata.csv\")\n",
    "df_2017_08['as_of_year']=2017\n",
    "df_2017_08['month']= 'August'\n",
    "df4=pd.DataFrame(df_2017_08)\n",
    "\n",
    "df_2018_08=pd.read_csv(\"Resources/Citibike_DataSource/JC-201808-citibike-tripdata.csv\")\n",
    "df_2018_08['as_of_year']=2018\n",
    "df_2018_08['month']= 'August'\n",
    "df5=pd.DataFrame(df_2018_08)\n",
    "\n",
    "df_2019_08=pd.read_csv(\"Resources/Citibike_DataSource/JC-201908-citibike-tripdata.csv\")\n",
    "df_2019_08['as_of_year']=2019\n",
    "df_2019_08['month']= 'August'\n",
    "df6=pd.DataFrame(df_2019_08)"
   ]
  },
  {
   "cell_type": "code",
   "execution_count": null,
   "metadata": {
    "scrolled": true
   },
   "outputs": [],
   "source": [
    "df6.info()"
   ]
  },
  {
   "cell_type": "markdown",
   "metadata": {},
   "source": [
    "# # Merge all CSV into one single DataFrame"
   ]
  },
  {
   "cell_type": "code",
   "execution_count": null,
   "metadata": {},
   "outputs": [],
   "source": [
    "frames=[df1,df2,df3,df4,df5,df6]"
   ]
  },
  {
   "cell_type": "code",
   "execution_count": null,
   "metadata": {},
   "outputs": [],
   "source": [
    "result=pd.concat(frames)"
   ]
  },
  {
   "cell_type": "code",
   "execution_count": null,
   "metadata": {},
   "outputs": [],
   "source": [
    "result.head()"
   ]
  },
  {
   "cell_type": "code",
   "execution_count": null,
   "metadata": {},
   "outputs": [],
   "source": [
    "# Rename Trip Duration to reflect values are in seconds\n",
    "# https://www.citibikenyc.com/system-data\n",
    "result=result.rename(columns={'tripduration':'tripduration(seconds)'\n",
    "                                 , 'birth year': 'BirthYear'})"
   ]
  },
  {
   "cell_type": "code",
   "execution_count": null,
   "metadata": {},
   "outputs": [],
   "source": [
    "result.info()"
   ]
  },
  {
   "cell_type": "markdown",
   "metadata": {},
   "source": [
    "# Replace Gender Column\n",
    "Gender (Zero=unknown; 1=male; 2=female)\n",
    "User Type (Customer = 24-hour pass or 3-day pass user; Subscriber = Annual Member)"
   ]
  },
  {
   "cell_type": "code",
   "execution_count": null,
   "metadata": {},
   "outputs": [],
   "source": [
    "result['gender']=result['gender'].replace([0], 'Unknown')\n",
    "result['gender']=result['gender'].replace([1], 'Male')\n",
    "result['gender']=result['gender'].replace([2], 'Female')\n"
   ]
  },
  {
   "cell_type": "code",
   "execution_count": null,
   "metadata": {},
   "outputs": [],
   "source": [
    "result.head()"
   ]
  },
  {
   "cell_type": "markdown",
   "metadata": {},
   "source": [
    "# Clean up Birth Year \n",
    "\n",
    "- 1885, 1886, 1887, 1888, 1890, 1893, 1895, 1896, 1899, \n"
   ]
  },
  {
   "cell_type": "code",
   "execution_count": null,
   "metadata": {},
   "outputs": [],
   "source": [
    "fault_birthYear= result.BirthYear < 1930"
   ]
  },
  {
   "cell_type": "code",
   "execution_count": null,
   "metadata": {},
   "outputs": [],
   "source": [
    "column_name ='BirthYear'"
   ]
  },
  {
   "cell_type": "code",
   "execution_count": null,
   "metadata": {},
   "outputs": [],
   "source": [
    "result.loc[fault_birthYear, column_name] = 0"
   ]
  },
  {
   "cell_type": "code",
   "execution_count": null,
   "metadata": {},
   "outputs": [],
   "source": [
    "# merge_df.sort_values(by='BirthYear', ascending=True, na_position= 'last')\n"
   ]
  },
  {
   "cell_type": "markdown",
   "metadata": {},
   "source": [
    "# Add Column for Age at the time (as_of_year)"
   ]
  },
  {
   "cell_type": "code",
   "execution_count": null,
   "metadata": {},
   "outputs": [],
   "source": [
    "result['as_of_Age']=result.as_of_year-result.BirthYear"
   ]
  },
  {
   "cell_type": "code",
   "execution_count": null,
   "metadata": {},
   "outputs": [],
   "source": [
    "result.head(3)"
   ]
  },
  {
   "cell_type": "markdown",
   "metadata": {},
   "source": [
    "# Write to CSV"
   ]
  },
  {
   "cell_type": "code",
   "execution_count": null,
   "metadata": {},
   "outputs": [],
   "source": [
    "result.to_csv(\"Resources/merge_df.csv\", index=False)"
   ]
  },
  {
   "cell_type": "code",
   "execution_count": null,
   "metadata": {
    "scrolled": true
   },
   "outputs": [],
   "source": [
    "result.info()"
   ]
  },
  {
   "cell_type": "code",
   "execution_count": null,
   "metadata": {},
   "outputs": [],
   "source": []
  }
 ],
 "metadata": {
  "kernelspec": {
   "display_name": "Python 3",
   "language": "python",
   "name": "python3"
  },
  "language_info": {
   "codemirror_mode": {
    "name": "ipython",
    "version": 3
   },
   "file_extension": ".py",
   "mimetype": "text/x-python",
   "name": "python",
   "nbconvert_exporter": "python",
   "pygments_lexer": "ipython3",
   "version": "3.7.3"
  }
 },
 "nbformat": 4,
 "nbformat_minor": 2
}
