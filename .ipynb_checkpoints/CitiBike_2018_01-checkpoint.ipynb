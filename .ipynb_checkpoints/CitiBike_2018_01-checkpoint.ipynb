{
 "cells": [
  {
   "cell_type": "code",
   "execution_count": 1,
   "metadata": {},
   "outputs": [],
   "source": [
    "import pandas as pd\n",
    "import numpy as np\n",
    "import csv\n",
    "import time\n",
    "from datetime import datetime\n",
    "from datetime import date"
   ]
  },
  {
   "cell_type": "markdown",
   "metadata": {},
   "source": [
    "## 2018-01\n",
    "-User Type (Customer = 24-hour pass or 3-day pass user; Subscriber = Annual Member)"
   ]
  },
  {
   "cell_type": "code",
   "execution_count": 2,
   "metadata": {},
   "outputs": [],
   "source": [
    "#Import Jan CSV for Year: 2018-01\n",
    "df_2018_01=pd.read_csv(\"Resources/Citibike_DataSource/JC-201801-citibike-tripdata.csv\")"
   ]
  },
  {
   "cell_type": "code",
   "execution_count": 3,
   "metadata": {},
   "outputs": [
    {
     "data": {
      "text/plain": [
       "Index(['tripduration', 'starttime', 'stoptime', 'start station id',\n",
       "       'start station name', 'start station latitude',\n",
       "       'start station longitude', 'end station id', 'end station name',\n",
       "       'end station latitude', 'end station longitude', 'bikeid', 'usertype',\n",
       "       'birth year', 'gender'],\n",
       "      dtype='object')"
      ]
     },
     "execution_count": 3,
     "metadata": {},
     "output_type": "execute_result"
    }
   ],
   "source": [
    "df_2018_01.columns"
   ]
  },
  {
   "cell_type": "code",
   "execution_count": 4,
   "metadata": {},
   "outputs": [],
   "source": [
    "# Rename Trip Duration to reflect values are in seconds\n",
    "# https://www.citibikenyc.com/system-data\n",
    "df_2018_01=df_2018_01.rename(columns={'tripduration':'tripduration(seconds)'\n",
    "                                      ,'start station id':'start_station_id'\n",
    "                                      ,'start station name':'start_station_name'\n",
    "                                      ,'start station latitude': 'start_station_latitude'\n",
    "                                      ,'start station longitude':'start_station_longitude'\n",
    "                                      ,'end station id':'end_station_id'\n",
    "                                      ,'end station name': 'end_station_name'\n",
    "                                      ,'end station latitude':'end_station_latitude'\n",
    "                                      ,'end station longitude':'end_station_longitude'\n",
    "                                      ,'birth year':'birth_year'})"
   ]
  },
  {
   "cell_type": "code",
   "execution_count": 5,
   "metadata": {},
   "outputs": [
    {
     "data": {
      "text/html": [
       "<div>\n",
       "<style scoped>\n",
       "    .dataframe tbody tr th:only-of-type {\n",
       "        vertical-align: middle;\n",
       "    }\n",
       "\n",
       "    .dataframe tbody tr th {\n",
       "        vertical-align: top;\n",
       "    }\n",
       "\n",
       "    .dataframe thead th {\n",
       "        text-align: right;\n",
       "    }\n",
       "</style>\n",
       "<table border=\"1\" class=\"dataframe\">\n",
       "  <thead>\n",
       "    <tr style=\"text-align: right;\">\n",
       "      <th></th>\n",
       "      <th>tripduration(seconds)</th>\n",
       "      <th>starttime</th>\n",
       "      <th>stoptime</th>\n",
       "      <th>start_station_id</th>\n",
       "      <th>start_station_name</th>\n",
       "      <th>start_station_latitude</th>\n",
       "      <th>start_station_longitude</th>\n",
       "      <th>end_station_id</th>\n",
       "      <th>end_station_name</th>\n",
       "      <th>end_station_latitude</th>\n",
       "      <th>end_station_longitude</th>\n",
       "      <th>bikeid</th>\n",
       "      <th>usertype</th>\n",
       "      <th>birth_year</th>\n",
       "      <th>gender</th>\n",
       "    </tr>\n",
       "  </thead>\n",
       "  <tbody>\n",
       "    <tr>\n",
       "      <th>0</th>\n",
       "      <td>932</td>\n",
       "      <td>2018-01-01 02:06:17.5410</td>\n",
       "      <td>2018-01-01 02:21:50.0270</td>\n",
       "      <td>3183</td>\n",
       "      <td>Exchange Place</td>\n",
       "      <td>40.716247</td>\n",
       "      <td>-74.033459</td>\n",
       "      <td>3199</td>\n",
       "      <td>Newport Pkwy</td>\n",
       "      <td>40.728745</td>\n",
       "      <td>-74.032108</td>\n",
       "      <td>31929</td>\n",
       "      <td>Subscriber</td>\n",
       "      <td>1992</td>\n",
       "      <td>1</td>\n",
       "    </tr>\n",
       "    <tr>\n",
       "      <th>1</th>\n",
       "      <td>550</td>\n",
       "      <td>2018-01-01 12:06:18.0390</td>\n",
       "      <td>2018-01-01 12:15:28.4430</td>\n",
       "      <td>3183</td>\n",
       "      <td>Exchange Place</td>\n",
       "      <td>40.716247</td>\n",
       "      <td>-74.033459</td>\n",
       "      <td>3199</td>\n",
       "      <td>Newport Pkwy</td>\n",
       "      <td>40.728745</td>\n",
       "      <td>-74.032108</td>\n",
       "      <td>31845</td>\n",
       "      <td>Subscriber</td>\n",
       "      <td>1969</td>\n",
       "      <td>2</td>\n",
       "    </tr>\n",
       "  </tbody>\n",
       "</table>\n",
       "</div>"
      ],
      "text/plain": [
       "   tripduration(seconds)                 starttime                  stoptime  \\\n",
       "0                    932  2018-01-01 02:06:17.5410  2018-01-01 02:21:50.0270   \n",
       "1                    550  2018-01-01 12:06:18.0390  2018-01-01 12:15:28.4430   \n",
       "\n",
       "   start_station_id start_station_name  start_station_latitude  \\\n",
       "0              3183     Exchange Place               40.716247   \n",
       "1              3183     Exchange Place               40.716247   \n",
       "\n",
       "   start_station_longitude  end_station_id end_station_name  \\\n",
       "0               -74.033459            3199     Newport Pkwy   \n",
       "1               -74.033459            3199     Newport Pkwy   \n",
       "\n",
       "   end_station_latitude  end_station_longitude  bikeid    usertype  \\\n",
       "0             40.728745             -74.032108   31929  Subscriber   \n",
       "1             40.728745             -74.032108   31845  Subscriber   \n",
       "\n",
       "   birth_year  gender  \n",
       "0        1992       1  \n",
       "1        1969       2  "
      ]
     },
     "execution_count": 5,
     "metadata": {},
     "output_type": "execute_result"
    }
   ],
   "source": [
    "df_2018_01.head(2)"
   ]
  },
  {
   "cell_type": "code",
   "execution_count": 6,
   "metadata": {},
   "outputs": [
    {
     "data": {
      "text/plain": [
       "tripduration(seconds)        int64\n",
       "starttime                   object\n",
       "stoptime                    object\n",
       "start_station_id             int64\n",
       "start_station_name          object\n",
       "start_station_latitude     float64\n",
       "start_station_longitude    float64\n",
       "end_station_id               int64\n",
       "end_station_name            object\n",
       "end_station_latitude       float64\n",
       "end_station_longitude      float64\n",
       "bikeid                       int64\n",
       "usertype                    object\n",
       "birth_year                   int64\n",
       "gender                       int64\n",
       "dtype: object"
      ]
     },
     "execution_count": 6,
     "metadata": {},
     "output_type": "execute_result"
    }
   ],
   "source": [
    "df_2018_01.dtypes"
   ]
  },
  {
   "cell_type": "markdown",
   "metadata": {},
   "source": [
    "## Identified na values & filled with \"0\" or \"Unknown\" "
   ]
  },
  {
   "cell_type": "code",
   "execution_count": 7,
   "metadata": {},
   "outputs": [
    {
     "data": {
      "text/plain": [
       "tripduration(seconds)      0\n",
       "starttime                  0\n",
       "stoptime                   0\n",
       "start_station_id           0\n",
       "start_station_name         0\n",
       "start_station_latitude     0\n",
       "start_station_longitude    0\n",
       "end_station_id             0\n",
       "end_station_name           0\n",
       "end_station_latitude       0\n",
       "end_station_longitude      0\n",
       "bikeid                     0\n",
       "usertype                   0\n",
       "birth_year                 0\n",
       "gender                     0\n",
       "dtype: int64"
      ]
     },
     "execution_count": 7,
     "metadata": {},
     "output_type": "execute_result"
    }
   ],
   "source": [
    "#Check how many null values in each column\n",
    "df_2018_01.isnull().sum()"
   ]
  },
  {
   "cell_type": "code",
   "execution_count": 8,
   "metadata": {},
   "outputs": [
    {
     "data": {
      "text/plain": [
       "array(['Subscriber', 'Customer'], dtype=object)"
      ]
     },
     "execution_count": 8,
     "metadata": {},
     "output_type": "execute_result"
    }
   ],
   "source": [
    "df_2018_01.usertype.unique()"
   ]
  },
  {
   "cell_type": "markdown",
   "metadata": {},
   "source": [
    "## Work on birth_year & calculate age\n",
    "-Note: any rider age greater than '85', it will be replce with age '0'"
   ]
  },
  {
   "cell_type": "code",
   "execution_count": 9,
   "metadata": {},
   "outputs": [
    {
     "data": {
      "text/plain": [
       "array([1992, 1969, 1946, 1994, 1991, 1982, 1958, 1989, 1960, 1976, 1985,\n",
       "       1974, 1968, 1988, 1990, 1980, 1995, 1981, 1978, 1983, 1966, 1965,\n",
       "       1986, 1971, 1954, 1993, 1970, 1984, 1987, 1975, 1964, 1962, 1955,\n",
       "       1963, 1999, 1957, 1956, 1972, 1973, 1941, 1952, 1977, 1967, 1961,\n",
       "       1959, 1979, 1949, 1998, 1931, 1997, 1887, 1950, 1953, 1947, 1996,\n",
       "       1948], dtype=int64)"
      ]
     },
     "execution_count": 9,
     "metadata": {},
     "output_type": "execute_result"
    }
   ],
   "source": [
    "df_2018_01.birth_year.unique()"
   ]
  },
  {
   "cell_type": "code",
   "execution_count": 10,
   "metadata": {},
   "outputs": [],
   "source": [
    "df_2018_01['as_of_year']=2018\n",
    "df_2018_01['month']= 'January'\n",
    "df_2018_01['season']= 'Winter'\n",
    "\n",
    "# Use Data Year minus birth_year at the time to obtain raider's age\n",
    "df_2018_01['Age']=df_2018_01.as_of_year-df_2018_01.birth_year"
   ]
  },
  {
   "cell_type": "code",
   "execution_count": 11,
   "metadata": {},
   "outputs": [
    {
     "data": {
      "text/plain": [
       "array([ 19,  20,  21,  22,  23,  24,  25,  26,  27,  28,  29,  30,  31,\n",
       "        32,  33,  34,  35,  36,  37,  38,  39,  40,  41,  42,  43,  44,\n",
       "        45,  46,  47,  48,  49,  50,  51,  52,  53,  54,  55,  56,  57,\n",
       "        58,  59,  60,  61,  62,  63,  64,  65,  66,  68,  69,  70,  71,\n",
       "        72,  77,  87, 131], dtype=int64)"
      ]
     },
     "execution_count": 11,
     "metadata": {},
     "output_type": "execute_result"
    }
   ],
   "source": [
    "a = df_2018_01['Age'].unique()\n",
    "a.sort()\n",
    "a"
   ]
  },
  {
   "cell_type": "code",
   "execution_count": 12,
   "metadata": {},
   "outputs": [],
   "source": [
    "df_2018_01['Age'].values[df_2018_01['Age'] > 85] = 0"
   ]
  },
  {
   "cell_type": "code",
   "execution_count": 13,
   "metadata": {},
   "outputs": [
    {
     "data": {
      "text/plain": [
       "array([ 0, 19, 20, 21, 22, 23, 24, 25, 26, 27, 28, 29, 30, 31, 32, 33, 34,\n",
       "       35, 36, 37, 38, 39, 40, 41, 42, 43, 44, 45, 46, 47, 48, 49, 50, 51,\n",
       "       52, 53, 54, 55, 56, 57, 58, 59, 60, 61, 62, 63, 64, 65, 66, 68, 69,\n",
       "       70, 71, 72, 77], dtype=int64)"
      ]
     },
     "execution_count": 13,
     "metadata": {},
     "output_type": "execute_result"
    }
   ],
   "source": [
    "b = df_2018_01['Age'].unique()\n",
    "b.sort()\n",
    "b"
   ]
  },
  {
   "cell_type": "code",
   "execution_count": 14,
   "metadata": {},
   "outputs": [],
   "source": [
    "df_2018_01['birth_year']=df_2018_01.birth_year.astype(int)"
   ]
  },
  {
   "cell_type": "code",
   "execution_count": 15,
   "metadata": {},
   "outputs": [
    {
     "data": {
      "text/plain": [
       "tripduration(seconds)        int64\n",
       "starttime                   object\n",
       "stoptime                    object\n",
       "start_station_id             int64\n",
       "start_station_name          object\n",
       "start_station_latitude     float64\n",
       "start_station_longitude    float64\n",
       "end_station_id               int64\n",
       "end_station_name            object\n",
       "end_station_latitude       float64\n",
       "end_station_longitude      float64\n",
       "bikeid                       int64\n",
       "usertype                    object\n",
       "birth_year                   int32\n",
       "gender                       int64\n",
       "as_of_year                   int64\n",
       "month                       object\n",
       "season                      object\n",
       "Age                          int64\n",
       "dtype: object"
      ]
     },
     "execution_count": 15,
     "metadata": {},
     "output_type": "execute_result"
    }
   ],
   "source": [
    "df_2018_01.dtypes"
   ]
  },
  {
   "cell_type": "code",
   "execution_count": 16,
   "metadata": {},
   "outputs": [
    {
     "data": {
      "text/html": [
       "<div>\n",
       "<style scoped>\n",
       "    .dataframe tbody tr th:only-of-type {\n",
       "        vertical-align: middle;\n",
       "    }\n",
       "\n",
       "    .dataframe tbody tr th {\n",
       "        vertical-align: top;\n",
       "    }\n",
       "\n",
       "    .dataframe thead th {\n",
       "        text-align: right;\n",
       "    }\n",
       "</style>\n",
       "<table border=\"1\" class=\"dataframe\">\n",
       "  <thead>\n",
       "    <tr style=\"text-align: right;\">\n",
       "      <th></th>\n",
       "      <th>tripduration(seconds)</th>\n",
       "      <th>starttime</th>\n",
       "      <th>stoptime</th>\n",
       "      <th>start_station_id</th>\n",
       "      <th>start_station_name</th>\n",
       "      <th>start_station_latitude</th>\n",
       "      <th>start_station_longitude</th>\n",
       "      <th>end_station_id</th>\n",
       "      <th>end_station_name</th>\n",
       "      <th>end_station_latitude</th>\n",
       "      <th>end_station_longitude</th>\n",
       "      <th>bikeid</th>\n",
       "      <th>usertype</th>\n",
       "      <th>birth_year</th>\n",
       "      <th>gender</th>\n",
       "      <th>as_of_year</th>\n",
       "      <th>month</th>\n",
       "      <th>season</th>\n",
       "      <th>Age</th>\n",
       "    </tr>\n",
       "  </thead>\n",
       "  <tbody>\n",
       "    <tr>\n",
       "      <th>0</th>\n",
       "      <td>932</td>\n",
       "      <td>2018-01-01 02:06:17.5410</td>\n",
       "      <td>2018-01-01 02:21:50.0270</td>\n",
       "      <td>3183</td>\n",
       "      <td>Exchange Place</td>\n",
       "      <td>40.716247</td>\n",
       "      <td>-74.033459</td>\n",
       "      <td>3199</td>\n",
       "      <td>Newport Pkwy</td>\n",
       "      <td>40.728745</td>\n",
       "      <td>-74.032108</td>\n",
       "      <td>31929</td>\n",
       "      <td>Subscriber</td>\n",
       "      <td>1992</td>\n",
       "      <td>1</td>\n",
       "      <td>2018</td>\n",
       "      <td>January</td>\n",
       "      <td>Winter</td>\n",
       "      <td>26</td>\n",
       "    </tr>\n",
       "    <tr>\n",
       "      <th>1</th>\n",
       "      <td>550</td>\n",
       "      <td>2018-01-01 12:06:18.0390</td>\n",
       "      <td>2018-01-01 12:15:28.4430</td>\n",
       "      <td>3183</td>\n",
       "      <td>Exchange Place</td>\n",
       "      <td>40.716247</td>\n",
       "      <td>-74.033459</td>\n",
       "      <td>3199</td>\n",
       "      <td>Newport Pkwy</td>\n",
       "      <td>40.728745</td>\n",
       "      <td>-74.032108</td>\n",
       "      <td>31845</td>\n",
       "      <td>Subscriber</td>\n",
       "      <td>1969</td>\n",
       "      <td>2</td>\n",
       "      <td>2018</td>\n",
       "      <td>January</td>\n",
       "      <td>Winter</td>\n",
       "      <td>49</td>\n",
       "    </tr>\n",
       "    <tr>\n",
       "      <th>2</th>\n",
       "      <td>510</td>\n",
       "      <td>2018-01-01 12:06:56.9780</td>\n",
       "      <td>2018-01-01 12:15:27.8100</td>\n",
       "      <td>3183</td>\n",
       "      <td>Exchange Place</td>\n",
       "      <td>40.716247</td>\n",
       "      <td>-74.033459</td>\n",
       "      <td>3199</td>\n",
       "      <td>Newport Pkwy</td>\n",
       "      <td>40.728745</td>\n",
       "      <td>-74.032108</td>\n",
       "      <td>31708</td>\n",
       "      <td>Subscriber</td>\n",
       "      <td>1946</td>\n",
       "      <td>1</td>\n",
       "      <td>2018</td>\n",
       "      <td>January</td>\n",
       "      <td>Winter</td>\n",
       "      <td>72</td>\n",
       "    </tr>\n",
       "    <tr>\n",
       "      <th>3</th>\n",
       "      <td>354</td>\n",
       "      <td>2018-01-01 14:53:10.1860</td>\n",
       "      <td>2018-01-01 14:59:05.0960</td>\n",
       "      <td>3183</td>\n",
       "      <td>Exchange Place</td>\n",
       "      <td>40.716247</td>\n",
       "      <td>-74.033459</td>\n",
       "      <td>3267</td>\n",
       "      <td>Morris Canal</td>\n",
       "      <td>40.712419</td>\n",
       "      <td>-74.038526</td>\n",
       "      <td>31697</td>\n",
       "      <td>Subscriber</td>\n",
       "      <td>1994</td>\n",
       "      <td>1</td>\n",
       "      <td>2018</td>\n",
       "      <td>January</td>\n",
       "      <td>Winter</td>\n",
       "      <td>24</td>\n",
       "    </tr>\n",
       "    <tr>\n",
       "      <th>4</th>\n",
       "      <td>250</td>\n",
       "      <td>2018-01-01 17:34:30.1920</td>\n",
       "      <td>2018-01-01 17:38:40.9840</td>\n",
       "      <td>3183</td>\n",
       "      <td>Exchange Place</td>\n",
       "      <td>40.716247</td>\n",
       "      <td>-74.033459</td>\n",
       "      <td>3639</td>\n",
       "      <td>Harborside</td>\n",
       "      <td>40.719252</td>\n",
       "      <td>-74.034234</td>\n",
       "      <td>31861</td>\n",
       "      <td>Subscriber</td>\n",
       "      <td>1991</td>\n",
       "      <td>1</td>\n",
       "      <td>2018</td>\n",
       "      <td>January</td>\n",
       "      <td>Winter</td>\n",
       "      <td>27</td>\n",
       "    </tr>\n",
       "  </tbody>\n",
       "</table>\n",
       "</div>"
      ],
      "text/plain": [
       "   tripduration(seconds)                 starttime                  stoptime  \\\n",
       "0                    932  2018-01-01 02:06:17.5410  2018-01-01 02:21:50.0270   \n",
       "1                    550  2018-01-01 12:06:18.0390  2018-01-01 12:15:28.4430   \n",
       "2                    510  2018-01-01 12:06:56.9780  2018-01-01 12:15:27.8100   \n",
       "3                    354  2018-01-01 14:53:10.1860  2018-01-01 14:59:05.0960   \n",
       "4                    250  2018-01-01 17:34:30.1920  2018-01-01 17:38:40.9840   \n",
       "\n",
       "   start_station_id start_station_name  start_station_latitude  \\\n",
       "0              3183     Exchange Place               40.716247   \n",
       "1              3183     Exchange Place               40.716247   \n",
       "2              3183     Exchange Place               40.716247   \n",
       "3              3183     Exchange Place               40.716247   \n",
       "4              3183     Exchange Place               40.716247   \n",
       "\n",
       "   start_station_longitude  end_station_id end_station_name  \\\n",
       "0               -74.033459            3199     Newport Pkwy   \n",
       "1               -74.033459            3199     Newport Pkwy   \n",
       "2               -74.033459            3199     Newport Pkwy   \n",
       "3               -74.033459            3267     Morris Canal   \n",
       "4               -74.033459            3639       Harborside   \n",
       "\n",
       "   end_station_latitude  end_station_longitude  bikeid    usertype  \\\n",
       "0             40.728745             -74.032108   31929  Subscriber   \n",
       "1             40.728745             -74.032108   31845  Subscriber   \n",
       "2             40.728745             -74.032108   31708  Subscriber   \n",
       "3             40.712419             -74.038526   31697  Subscriber   \n",
       "4             40.719252             -74.034234   31861  Subscriber   \n",
       "\n",
       "   birth_year  gender  as_of_year    month  season  Age  \n",
       "0        1992       1        2018  January  Winter   26  \n",
       "1        1969       2        2018  January  Winter   49  \n",
       "2        1946       1        2018  January  Winter   72  \n",
       "3        1994       1        2018  January  Winter   24  \n",
       "4        1991       1        2018  January  Winter   27  "
      ]
     },
     "execution_count": 16,
     "metadata": {},
     "output_type": "execute_result"
    }
   ],
   "source": [
    "df_2018_01.head()"
   ]
  },
  {
   "cell_type": "markdown",
   "metadata": {},
   "source": [
    "## Standarized Format for Start Time and End Time \n",
    "-.strftime(\"%Y/%m/%d %H:%M:%S\")"
   ]
  },
  {
   "cell_type": "code",
   "execution_count": 17,
   "metadata": {},
   "outputs": [],
   "source": [
    "#Standarized Start Time and End time \n",
    "start_time_201801=[datetime.strptime(x,\"%Y-%m-%d %H:%M:%S.%f\").strftime(\"%Y/%m/%d %H:%M:%S\") for x in df_2018_01['starttime'].values.tolist()]\n",
    "end_time_201801=[datetime.strptime(x,\"%Y-%m-%d %H:%M:%S.%f\").strftime(\"%Y/%m/%d %H:%M:%S\") for x in df_2018_01['stoptime'].values.tolist()]\n"
   ]
  },
  {
   "cell_type": "code",
   "execution_count": 18,
   "metadata": {},
   "outputs": [],
   "source": [
    "# Add Columns\n",
    "df_2018_01['trip_start_time']=start_time_201801\n",
    "df_2018_01['trip_end_time']=end_time_201801"
   ]
  },
  {
   "cell_type": "markdown",
   "metadata": {},
   "source": [
    "## Clean the Gender column\n",
    "--Gender (Zero=unknown; 1=male; 2=female) "
   ]
  },
  {
   "cell_type": "code",
   "execution_count": 19,
   "metadata": {},
   "outputs": [],
   "source": [
    "#Replace Gender Column\n",
    "# Gender (Zero=unknown; 1=male; 2=female)\n",
    "df_2018_01['gender']=df_2018_01['gender'].replace([0], 'Unknown')\n",
    "df_2018_01['gender']=df_2018_01['gender'].replace([1], 'Male')\n",
    "df_2018_01['gender']=df_2018_01['gender'].replace([2], 'Female')"
   ]
  },
  {
   "cell_type": "code",
   "execution_count": 20,
   "metadata": {},
   "outputs": [
    {
     "data": {
      "text/plain": [
       "tripduration(seconds)      0\n",
       "starttime                  0\n",
       "stoptime                   0\n",
       "start_station_id           0\n",
       "start_station_name         0\n",
       "start_station_latitude     0\n",
       "start_station_longitude    0\n",
       "end_station_id             0\n",
       "end_station_name           0\n",
       "end_station_latitude       0\n",
       "end_station_longitude      0\n",
       "bikeid                     0\n",
       "usertype                   0\n",
       "birth_year                 0\n",
       "gender                     0\n",
       "as_of_year                 0\n",
       "month                      0\n",
       "season                     0\n",
       "Age                        0\n",
       "trip_start_time            0\n",
       "trip_end_time              0\n",
       "dtype: int64"
      ]
     },
     "execution_count": 20,
     "metadata": {},
     "output_type": "execute_result"
    }
   ],
   "source": [
    "df_2018_01.isnull().sum()"
   ]
  },
  {
   "cell_type": "code",
   "execution_count": 21,
   "metadata": {
    "scrolled": true
   },
   "outputs": [
    {
     "name": "stdout",
     "output_type": "stream",
     "text": [
      "<class 'pandas.core.frame.DataFrame'>\n",
      "RangeIndex: 12677 entries, 0 to 12676\n",
      "Data columns (total 21 columns):\n",
      "tripduration(seconds)      12677 non-null int64\n",
      "starttime                  12677 non-null object\n",
      "stoptime                   12677 non-null object\n",
      "start_station_id           12677 non-null int64\n",
      "start_station_name         12677 non-null object\n",
      "start_station_latitude     12677 non-null float64\n",
      "start_station_longitude    12677 non-null float64\n",
      "end_station_id             12677 non-null int64\n",
      "end_station_name           12677 non-null object\n",
      "end_station_latitude       12677 non-null float64\n",
      "end_station_longitude      12677 non-null float64\n",
      "bikeid                     12677 non-null int64\n",
      "usertype                   12677 non-null object\n",
      "birth_year                 12677 non-null int32\n",
      "gender                     12677 non-null object\n",
      "as_of_year                 12677 non-null int64\n",
      "month                      12677 non-null object\n",
      "season                     12677 non-null object\n",
      "Age                        12677 non-null int64\n",
      "trip_start_time            12677 non-null object\n",
      "trip_end_time              12677 non-null object\n",
      "dtypes: float64(4), int32(1), int64(6), object(10)\n",
      "memory usage: 2.0+ MB\n"
     ]
    }
   ],
   "source": [
    "df_2018_01.info()"
   ]
  },
  {
   "cell_type": "markdown",
   "metadata": {},
   "source": [
    "## Export to CSV"
   ]
  },
  {
   "cell_type": "code",
   "execution_count": 22,
   "metadata": {},
   "outputs": [],
   "source": [
    "# Write to CSV\n",
    "df_2018_01.to_csv(\"Resources/df_2018_01.csv\", index=False)"
   ]
  },
  {
   "cell_type": "code",
   "execution_count": null,
   "metadata": {},
   "outputs": [],
   "source": []
  }
 ],
 "metadata": {
  "kernelspec": {
   "display_name": "Python 3",
   "language": "python",
   "name": "python3"
  },
  "language_info": {
   "codemirror_mode": {
    "name": "ipython",
    "version": 3
   },
   "file_extension": ".py",
   "mimetype": "text/x-python",
   "name": "python",
   "nbconvert_exporter": "python",
   "pygments_lexer": "ipython3",
   "version": "3.7.3"
  }
 },
 "nbformat": 4,
 "nbformat_minor": 2
}
